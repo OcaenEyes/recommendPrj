{
 "cells": [
  {
   "cell_type": "code",
   "execution_count": null,
   "id": "12ba4581-ab7a-4d07-b952-cb3c2fd6dc75",
   "metadata": {},
   "outputs": [],
   "source": []
  }
 ],
 "metadata": {
  "kernelspec": {
   "display_name": "py3.6.5_tf2",
   "language": "python",
   "name": "py3.6.5_tf2"
  },
  "language_info": {
   "codemirror_mode": {
    "name": "ipython",
    "version": 3
   },
   "file_extension": ".py",
   "mimetype": "text/x-python",
   "name": "python",
   "nbconvert_exporter": "python",
   "pygments_lexer": "ipython3",
   "version": "3.6.5"
  }
 },
 "nbformat": 4,
 "nbformat_minor": 5
}
